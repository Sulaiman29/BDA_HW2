{
  "nbformat": 4,
  "nbformat_minor": 0,
  "metadata": {
    "kernelspec": {
      "display_name": "Python 3",
      "language": "python",
      "name": "python3"
    },
    "language_info": {
      "codemirror_mode": {
        "name": "ipython",
        "version": 3
      },
      "file_extension": ".py",
      "mimetype": "text/x-python",
      "name": "python",
      "nbconvert_exporter": "python",
      "pygments_lexer": "ipython3",
      "version": "3.6.9"
    },
    "colab": {
      "provenance": [],
      "include_colab_link": true
    }
  },
  "cells": [
    {
      "cell_type": "markdown",
      "metadata": {
        "id": "view-in-github",
        "colab_type": "text"
      },
      "source": [
        "<a href=\"https://colab.research.google.com/github/Sulaiman29/BDA_HW2/blob/main/Copy_of_BDA2025Spring_HW2.ipynb\" target=\"_parent\"><img src=\"https://colab.research.google.com/assets/colab-badge.svg\" alt=\"Open In Colab\"/></a>"
      ]
    },
    {
      "cell_type": "markdown",
      "metadata": {
        "id": "eYwLs5joJfJN"
      },
      "source": [
        "<div class=\"alert alert-block alert-info\"><b></b>\n",
        "\n",
        "# <h1><center> <font color='black'>Homework 02</font></center></h1>\n",
        "\n",
        "<h2><center> <font color='black'> Regression & Regularization</font></center></h2>    \n",
        "<h2><center> <font color='black'> MTAT.03.319 - Business Data Analytics</font></center></h2>\n",
        "<h2><center> <font color='black'> University of Tartu - Spring 2025</font></center></h2>\n",
        "</div>"
      ]
    },
    {
      "cell_type": "markdown",
      "metadata": {
        "id": "TMAvgHx6JfJm"
      },
      "source": [
        "# Homework instructions\n",
        "\n",
        "- Please provide the names and student IDs of the team-members (Maximum 2 person) in the field \"Team mates\" below. If you are not working in a team please insert only your name and student ID.\n",
        "\n",
        "- Please provide code where ever applicable.\n",
        "\n",
        "- The accepted submission format is .ipynb file. Please make sure that the privacy settings for the file is public so we can access your code.\n",
        "\n",
        "- The submission will automatically close on <font color='red'>**30 March at 23:59**</font>, so please make sure to submit before the deadline.\n",
        "\n",
        "- ONLY one of the teammates should submit the homework and in the submission description the other person's Name and Student ID must be entered. We will grade the homework and the marks and feedback is applied for both the team members. So please communicate with your team member about marks and feedback if you are submit the homework.\n",
        "\n",
        "- If a question is not clear, please ask us in Moodle ONLY.\n",
        "\n",
        "- After you have finished solving the Homework, please restart the Kernel and run all the cells to check if there is any persisting issues.\n",
        "\n",
        "- Plagiarism is <font color='red'>**PROHIBITED**</font>. Any form of plagiarism will be dealt according to the university policy (https://ut.ee/en/content/academic-fraud).\n",
        "\n",
        "- <font color='red'>**DO NOT CHANGE THE TEMPLATE**</font>\n",
        "\n",
        "- <font color='red'>**Restart the Kernel and Run all the cells once again after you are done.**</font>\n",
        "This will ensure that all the cells run without error. You will find an option in the top menu bar under Kernel tab."
      ]
    },
    {
      "cell_type": "markdown",
      "metadata": {
        "id": "CfgmDl7JJfJn"
      },
      "source": [
        "**<h2><font color='red'>Team mates:</font></h2>**\n",
        "\n",
        "\n",
        "<font color='red'>Name: </font>&emsp; Muhammad Sulaiman Javed  <font color='red'>Student ID: </font>\n",
        "\n",
        "\n",
        "<font color='red'>Name: MD Murad Alahi Misu</font>&emsp;   <font color='red'>Student ID: </font>\n",
        "\n",
        "\n"
      ]
    },
    {
      "cell_type": "markdown",
      "metadata": {
        "id": "fQFbVbtpJfJn"
      },
      "source": [
        "# Introduction\n",
        "\n",
        "* In this homework you are going to apply supervised learning: Linear Regression method using Scikit-learn package; Scikit-learn (formerly scikits.learn and also known as sklearn) is a free software machine learning library for the Python programming language. It features various classification, regression and clustering algorithms including support vector machines, random forests, gradient boosting, k-means and DBSCAN, and is designed to interoperate with the Python numerical and scientific libraries NumPy and SciPy [https://en.wikipedia.org/wiki/Scikit-learn].\n",
        "\n",
        "### The homework is divided into four sections and the points are distributed as below:\n",
        "<pre>\n",
        "- Linear Regression    -> 3 points\n",
        "- PCA                  -> 3 points\n",
        "- Overfitting          -> 5 points\n",
        "_________________________________________\n",
        "Total                  -> 11 points\n",
        "</pre>"
      ]
    },
    {
      "cell_type": "markdown",
      "metadata": {
        "id": "p1wszlIpJfJo"
      },
      "source": [
        "# 1. Regression\n",
        "## 1.1 Linear Regression (2 points)\n",
        "\n",
        "We are going to use the Prices dataset that contains 74 columns. Each column represents a feature of houses for sale. The ```SalePrice``` column  shows their prices."
      ]
    },
    {
      "cell_type": "code",
      "metadata": {
        "id": "qidamLnMJfJo",
        "outputId": "f2b9901e-d834-4a31-a9bd-22f24ace58d3",
        "colab": {
          "base_uri": "https://localhost:8080/",
          "height": 255
        }
      },
      "source": [
        "import pandas as pd\n",
        "data = pd.read_csv(\"Prices.csv\")\n",
        "data.head()"
      ],
      "execution_count": null,
      "outputs": [
        {
          "output_type": "execute_result",
          "data": {
            "text/plain": [
              "   MSSubClass MSZoning  LotFrontage  LotArea Street LotShape LandContour  \\\n",
              "0          60       RL         65.0     8450   Pave      Reg         Lvl   \n",
              "1          20       RL         80.0     9600   Pave      Reg         Lvl   \n",
              "2          60       RL         68.0    11250   Pave      IR1         Lvl   \n",
              "3          70       RL         60.0     9550   Pave      IR1         Lvl   \n",
              "4          60       RL         84.0    14260   Pave      IR1         Lvl   \n",
              "\n",
              "  Utilities LotConfig LandSlope  ... EnclosedPorch 3SsnPorch ScreenPorch  \\\n",
              "0    AllPub    Inside       Gtl  ...             0         0           0   \n",
              "1    AllPub       FR2       Gtl  ...             0         0           0   \n",
              "2    AllPub    Inside       Gtl  ...             0         0           0   \n",
              "3    AllPub    Corner       Gtl  ...           272         0           0   \n",
              "4    AllPub       FR2       Gtl  ...             0         0           0   \n",
              "\n",
              "  PoolArea MiscVal  MoSold  YrSold  SaleType  SaleCondition SalePrice  \n",
              "0        0       0       2    2008        WD         Normal    208500  \n",
              "1        0       0       5    2007        WD         Normal    181500  \n",
              "2        0       0       9    2008        WD         Normal    223500  \n",
              "3        0       0       2    2006        WD        Abnorml    140000  \n",
              "4        0       0      12    2008        WD         Normal    250000  \n",
              "\n",
              "[5 rows x 75 columns]"
            ],
            "text/html": [
              "\n",
              "  <div id=\"df-f99b374d-7922-4645-ad65-6774a66364a7\" class=\"colab-df-container\">\n",
              "    <div>\n",
              "<style scoped>\n",
              "    .dataframe tbody tr th:only-of-type {\n",
              "        vertical-align: middle;\n",
              "    }\n",
              "\n",
              "    .dataframe tbody tr th {\n",
              "        vertical-align: top;\n",
              "    }\n",
              "\n",
              "    .dataframe thead th {\n",
              "        text-align: right;\n",
              "    }\n",
              "</style>\n",
              "<table border=\"1\" class=\"dataframe\">\n",
              "  <thead>\n",
              "    <tr style=\"text-align: right;\">\n",
              "      <th></th>\n",
              "      <th>MSSubClass</th>\n",
              "      <th>MSZoning</th>\n",
              "      <th>LotFrontage</th>\n",
              "      <th>LotArea</th>\n",
              "      <th>Street</th>\n",
              "      <th>LotShape</th>\n",
              "      <th>LandContour</th>\n",
              "      <th>Utilities</th>\n",
              "      <th>LotConfig</th>\n",
              "      <th>LandSlope</th>\n",
              "      <th>...</th>\n",
              "      <th>EnclosedPorch</th>\n",
              "      <th>3SsnPorch</th>\n",
              "      <th>ScreenPorch</th>\n",
              "      <th>PoolArea</th>\n",
              "      <th>MiscVal</th>\n",
              "      <th>MoSold</th>\n",
              "      <th>YrSold</th>\n",
              "      <th>SaleType</th>\n",
              "      <th>SaleCondition</th>\n",
              "      <th>SalePrice</th>\n",
              "    </tr>\n",
              "  </thead>\n",
              "  <tbody>\n",
              "    <tr>\n",
              "      <th>0</th>\n",
              "      <td>60</td>\n",
              "      <td>RL</td>\n",
              "      <td>65.0</td>\n",
              "      <td>8450</td>\n",
              "      <td>Pave</td>\n",
              "      <td>Reg</td>\n",
              "      <td>Lvl</td>\n",
              "      <td>AllPub</td>\n",
              "      <td>Inside</td>\n",
              "      <td>Gtl</td>\n",
              "      <td>...</td>\n",
              "      <td>0</td>\n",
              "      <td>0</td>\n",
              "      <td>0</td>\n",
              "      <td>0</td>\n",
              "      <td>0</td>\n",
              "      <td>2</td>\n",
              "      <td>2008</td>\n",
              "      <td>WD</td>\n",
              "      <td>Normal</td>\n",
              "      <td>208500</td>\n",
              "    </tr>\n",
              "    <tr>\n",
              "      <th>1</th>\n",
              "      <td>20</td>\n",
              "      <td>RL</td>\n",
              "      <td>80.0</td>\n",
              "      <td>9600</td>\n",
              "      <td>Pave</td>\n",
              "      <td>Reg</td>\n",
              "      <td>Lvl</td>\n",
              "      <td>AllPub</td>\n",
              "      <td>FR2</td>\n",
              "      <td>Gtl</td>\n",
              "      <td>...</td>\n",
              "      <td>0</td>\n",
              "      <td>0</td>\n",
              "      <td>0</td>\n",
              "      <td>0</td>\n",
              "      <td>0</td>\n",
              "      <td>5</td>\n",
              "      <td>2007</td>\n",
              "      <td>WD</td>\n",
              "      <td>Normal</td>\n",
              "      <td>181500</td>\n",
              "    </tr>\n",
              "    <tr>\n",
              "      <th>2</th>\n",
              "      <td>60</td>\n",
              "      <td>RL</td>\n",
              "      <td>68.0</td>\n",
              "      <td>11250</td>\n",
              "      <td>Pave</td>\n",
              "      <td>IR1</td>\n",
              "      <td>Lvl</td>\n",
              "      <td>AllPub</td>\n",
              "      <td>Inside</td>\n",
              "      <td>Gtl</td>\n",
              "      <td>...</td>\n",
              "      <td>0</td>\n",
              "      <td>0</td>\n",
              "      <td>0</td>\n",
              "      <td>0</td>\n",
              "      <td>0</td>\n",
              "      <td>9</td>\n",
              "      <td>2008</td>\n",
              "      <td>WD</td>\n",
              "      <td>Normal</td>\n",
              "      <td>223500</td>\n",
              "    </tr>\n",
              "    <tr>\n",
              "      <th>3</th>\n",
              "      <td>70</td>\n",
              "      <td>RL</td>\n",
              "      <td>60.0</td>\n",
              "      <td>9550</td>\n",
              "      <td>Pave</td>\n",
              "      <td>IR1</td>\n",
              "      <td>Lvl</td>\n",
              "      <td>AllPub</td>\n",
              "      <td>Corner</td>\n",
              "      <td>Gtl</td>\n",
              "      <td>...</td>\n",
              "      <td>272</td>\n",
              "      <td>0</td>\n",
              "      <td>0</td>\n",
              "      <td>0</td>\n",
              "      <td>0</td>\n",
              "      <td>2</td>\n",
              "      <td>2006</td>\n",
              "      <td>WD</td>\n",
              "      <td>Abnorml</td>\n",
              "      <td>140000</td>\n",
              "    </tr>\n",
              "    <tr>\n",
              "      <th>4</th>\n",
              "      <td>60</td>\n",
              "      <td>RL</td>\n",
              "      <td>84.0</td>\n",
              "      <td>14260</td>\n",
              "      <td>Pave</td>\n",
              "      <td>IR1</td>\n",
              "      <td>Lvl</td>\n",
              "      <td>AllPub</td>\n",
              "      <td>FR2</td>\n",
              "      <td>Gtl</td>\n",
              "      <td>...</td>\n",
              "      <td>0</td>\n",
              "      <td>0</td>\n",
              "      <td>0</td>\n",
              "      <td>0</td>\n",
              "      <td>0</td>\n",
              "      <td>12</td>\n",
              "      <td>2008</td>\n",
              "      <td>WD</td>\n",
              "      <td>Normal</td>\n",
              "      <td>250000</td>\n",
              "    </tr>\n",
              "  </tbody>\n",
              "</table>\n",
              "<p>5 rows × 75 columns</p>\n",
              "</div>\n",
              "    <div class=\"colab-df-buttons\">\n",
              "\n",
              "  <div class=\"colab-df-container\">\n",
              "    <button class=\"colab-df-convert\" onclick=\"convertToInteractive('df-f99b374d-7922-4645-ad65-6774a66364a7')\"\n",
              "            title=\"Convert this dataframe to an interactive table.\"\n",
              "            style=\"display:none;\">\n",
              "\n",
              "  <svg xmlns=\"http://www.w3.org/2000/svg\" height=\"24px\" viewBox=\"0 -960 960 960\">\n",
              "    <path d=\"M120-120v-720h720v720H120Zm60-500h600v-160H180v160Zm220 220h160v-160H400v160Zm0 220h160v-160H400v160ZM180-400h160v-160H180v160Zm440 0h160v-160H620v160ZM180-180h160v-160H180v160Zm440 0h160v-160H620v160Z\"/>\n",
              "  </svg>\n",
              "    </button>\n",
              "\n",
              "  <style>\n",
              "    .colab-df-container {\n",
              "      display:flex;\n",
              "      gap: 12px;\n",
              "    }\n",
              "\n",
              "    .colab-df-convert {\n",
              "      background-color: #E8F0FE;\n",
              "      border: none;\n",
              "      border-radius: 50%;\n",
              "      cursor: pointer;\n",
              "      display: none;\n",
              "      fill: #1967D2;\n",
              "      height: 32px;\n",
              "      padding: 0 0 0 0;\n",
              "      width: 32px;\n",
              "    }\n",
              "\n",
              "    .colab-df-convert:hover {\n",
              "      background-color: #E2EBFA;\n",
              "      box-shadow: 0px 1px 2px rgba(60, 64, 67, 0.3), 0px 1px 3px 1px rgba(60, 64, 67, 0.15);\n",
              "      fill: #174EA6;\n",
              "    }\n",
              "\n",
              "    .colab-df-buttons div {\n",
              "      margin-bottom: 4px;\n",
              "    }\n",
              "\n",
              "    [theme=dark] .colab-df-convert {\n",
              "      background-color: #3B4455;\n",
              "      fill: #D2E3FC;\n",
              "    }\n",
              "\n",
              "    [theme=dark] .colab-df-convert:hover {\n",
              "      background-color: #434B5C;\n",
              "      box-shadow: 0px 1px 3px 1px rgba(0, 0, 0, 0.15);\n",
              "      filter: drop-shadow(0px 1px 2px rgba(0, 0, 0, 0.3));\n",
              "      fill: #FFFFFF;\n",
              "    }\n",
              "  </style>\n",
              "\n",
              "    <script>\n",
              "      const buttonEl =\n",
              "        document.querySelector('#df-f99b374d-7922-4645-ad65-6774a66364a7 button.colab-df-convert');\n",
              "      buttonEl.style.display =\n",
              "        google.colab.kernel.accessAllowed ? 'block' : 'none';\n",
              "\n",
              "      async function convertToInteractive(key) {\n",
              "        const element = document.querySelector('#df-f99b374d-7922-4645-ad65-6774a66364a7');\n",
              "        const dataTable =\n",
              "          await google.colab.kernel.invokeFunction('convertToInteractive',\n",
              "                                                    [key], {});\n",
              "        if (!dataTable) return;\n",
              "\n",
              "        const docLinkHtml = 'Like what you see? Visit the ' +\n",
              "          '<a target=\"_blank\" href=https://colab.research.google.com/notebooks/data_table.ipynb>data table notebook</a>'\n",
              "          + ' to learn more about interactive tables.';\n",
              "        element.innerHTML = '';\n",
              "        dataTable['output_type'] = 'display_data';\n",
              "        await google.colab.output.renderOutput(dataTable, element);\n",
              "        const docLink = document.createElement('div');\n",
              "        docLink.innerHTML = docLinkHtml;\n",
              "        element.appendChild(docLink);\n",
              "      }\n",
              "    </script>\n",
              "  </div>\n",
              "\n",
              "\n",
              "<div id=\"df-ded01c8c-6382-4880-a797-a57525154f61\">\n",
              "  <button class=\"colab-df-quickchart\" onclick=\"quickchart('df-ded01c8c-6382-4880-a797-a57525154f61')\"\n",
              "            title=\"Suggest charts\"\n",
              "            style=\"display:none;\">\n",
              "\n",
              "<svg xmlns=\"http://www.w3.org/2000/svg\" height=\"24px\"viewBox=\"0 0 24 24\"\n",
              "     width=\"24px\">\n",
              "    <g>\n",
              "        <path d=\"M19 3H5c-1.1 0-2 .9-2 2v14c0 1.1.9 2 2 2h14c1.1 0 2-.9 2-2V5c0-1.1-.9-2-2-2zM9 17H7v-7h2v7zm4 0h-2V7h2v10zm4 0h-2v-4h2v4z\"/>\n",
              "    </g>\n",
              "</svg>\n",
              "  </button>\n",
              "\n",
              "<style>\n",
              "  .colab-df-quickchart {\n",
              "      --bg-color: #E8F0FE;\n",
              "      --fill-color: #1967D2;\n",
              "      --hover-bg-color: #E2EBFA;\n",
              "      --hover-fill-color: #174EA6;\n",
              "      --disabled-fill-color: #AAA;\n",
              "      --disabled-bg-color: #DDD;\n",
              "  }\n",
              "\n",
              "  [theme=dark] .colab-df-quickchart {\n",
              "      --bg-color: #3B4455;\n",
              "      --fill-color: #D2E3FC;\n",
              "      --hover-bg-color: #434B5C;\n",
              "      --hover-fill-color: #FFFFFF;\n",
              "      --disabled-bg-color: #3B4455;\n",
              "      --disabled-fill-color: #666;\n",
              "  }\n",
              "\n",
              "  .colab-df-quickchart {\n",
              "    background-color: var(--bg-color);\n",
              "    border: none;\n",
              "    border-radius: 50%;\n",
              "    cursor: pointer;\n",
              "    display: none;\n",
              "    fill: var(--fill-color);\n",
              "    height: 32px;\n",
              "    padding: 0;\n",
              "    width: 32px;\n",
              "  }\n",
              "\n",
              "  .colab-df-quickchart:hover {\n",
              "    background-color: var(--hover-bg-color);\n",
              "    box-shadow: 0 1px 2px rgba(60, 64, 67, 0.3), 0 1px 3px 1px rgba(60, 64, 67, 0.15);\n",
              "    fill: var(--button-hover-fill-color);\n",
              "  }\n",
              "\n",
              "  .colab-df-quickchart-complete:disabled,\n",
              "  .colab-df-quickchart-complete:disabled:hover {\n",
              "    background-color: var(--disabled-bg-color);\n",
              "    fill: var(--disabled-fill-color);\n",
              "    box-shadow: none;\n",
              "  }\n",
              "\n",
              "  .colab-df-spinner {\n",
              "    border: 2px solid var(--fill-color);\n",
              "    border-color: transparent;\n",
              "    border-bottom-color: var(--fill-color);\n",
              "    animation:\n",
              "      spin 1s steps(1) infinite;\n",
              "  }\n",
              "\n",
              "  @keyframes spin {\n",
              "    0% {\n",
              "      border-color: transparent;\n",
              "      border-bottom-color: var(--fill-color);\n",
              "      border-left-color: var(--fill-color);\n",
              "    }\n",
              "    20% {\n",
              "      border-color: transparent;\n",
              "      border-left-color: var(--fill-color);\n",
              "      border-top-color: var(--fill-color);\n",
              "    }\n",
              "    30% {\n",
              "      border-color: transparent;\n",
              "      border-left-color: var(--fill-color);\n",
              "      border-top-color: var(--fill-color);\n",
              "      border-right-color: var(--fill-color);\n",
              "    }\n",
              "    40% {\n",
              "      border-color: transparent;\n",
              "      border-right-color: var(--fill-color);\n",
              "      border-top-color: var(--fill-color);\n",
              "    }\n",
              "    60% {\n",
              "      border-color: transparent;\n",
              "      border-right-color: var(--fill-color);\n",
              "    }\n",
              "    80% {\n",
              "      border-color: transparent;\n",
              "      border-right-color: var(--fill-color);\n",
              "      border-bottom-color: var(--fill-color);\n",
              "    }\n",
              "    90% {\n",
              "      border-color: transparent;\n",
              "      border-bottom-color: var(--fill-color);\n",
              "    }\n",
              "  }\n",
              "</style>\n",
              "\n",
              "  <script>\n",
              "    async function quickchart(key) {\n",
              "      const quickchartButtonEl =\n",
              "        document.querySelector('#' + key + ' button');\n",
              "      quickchartButtonEl.disabled = true;  // To prevent multiple clicks.\n",
              "      quickchartButtonEl.classList.add('colab-df-spinner');\n",
              "      try {\n",
              "        const charts = await google.colab.kernel.invokeFunction(\n",
              "            'suggestCharts', [key], {});\n",
              "      } catch (error) {\n",
              "        console.error('Error during call to suggestCharts:', error);\n",
              "      }\n",
              "      quickchartButtonEl.classList.remove('colab-df-spinner');\n",
              "      quickchartButtonEl.classList.add('colab-df-quickchart-complete');\n",
              "    }\n",
              "    (() => {\n",
              "      let quickchartButtonEl =\n",
              "        document.querySelector('#df-ded01c8c-6382-4880-a797-a57525154f61 button');\n",
              "      quickchartButtonEl.style.display =\n",
              "        google.colab.kernel.accessAllowed ? 'block' : 'none';\n",
              "    })();\n",
              "  </script>\n",
              "</div>\n",
              "\n",
              "    </div>\n",
              "  </div>\n"
            ],
            "application/vnd.google.colaboratory.intrinsic+json": {
              "type": "dataframe",
              "variable_name": "data"
            }
          },
          "metadata": {},
          "execution_count": 1
        }
      ]
    },
    {
      "cell_type": "markdown",
      "metadata": {
        "id": "L5dxc_JaJfJq"
      },
      "source": [
        "The column names are self-explanatory which indicates features of each house."
      ]
    },
    {
      "cell_type": "markdown",
      "metadata": {
        "id": "Xt1Kln3rJfJq"
      },
      "source": [
        "**1.1.1. The target label is```SalePrice``` which means, later we will predict the sale-price based on the given features (columns). But for regression task, it is important to ensure that the data is not skewed. In order to do that, please plot the distribution of ```SalePrice``` column and explain what do you see. (0.35 point)**"
      ]
    },
    {
      "cell_type": "code",
      "metadata": {
        "id": "IJbRJKE8JfJq",
        "colab": {
          "base_uri": "https://localhost:8080/",
          "height": 564
        },
        "outputId": "939ed383-6140-49fb-b6a2-6e6fe50b4fca"
      },
      "source": [
        "import pandas as pd\n",
        "import matplotlib.pyplot as plt\n",
        "import seaborn as sns\n",
        "\n",
        "# Plot the distribution of SalePrice\n",
        "plt.figure(figsize=(8,6))\n",
        "sns.histplot(data['SalePrice'], kde=True, bins=30)\n",
        "plt.xlabel(\"Sale Price\")\n",
        "plt.ylabel(\"Frequency\")\n",
        "plt.title(\"Distribution of Sale Price\")\n",
        "plt.show()"
      ],
      "execution_count": null,
      "outputs": [
        {
          "output_type": "display_data",
          "data": {
            "text/plain": [
              "<Figure size 800x600 with 1 Axes>"
            ],
            "image/png": "[encoded data removed]"
          },
          "metadata": {}
        }
      ]
    },
    {
      "cell_type": "markdown",
      "metadata": {
        "id": "UthxdZLyJfJq"
      },
      "source": [
        "**<font color='red'>Answer:</font>** Data is positively skewed as the tail is towards the right. It means there are more houses with lower prices and fewer houses with extremely high prices."
      ]
    },
    {
      "cell_type": "markdown",
      "metadata": {
        "id": "jCEjKtlJJfJr"
      },
      "source": [
        "So, the data seems to be skewed which has to be fixed otherwise it may lead to erronous result.\n",
        "Apart from that, look closely, some columns are not numerical. For those, you have to convert them to numerical value or represent them in a way so that the algorithm can understand the data. One of such way is called, one hot encoding. Along with that, the algorithm cannot deal with NaN or Infinite values. So please address all of these in the preprocessing section.\n",
        "\n",
        "- Preprocess for skewed data\n",
        "- Apply one-hot encoding to categorical data types\n",
        "- Replace negative infinite values with 0"
      ]
    },
    {
      "cell_type": "markdown",
      "metadata": {
        "id": "I1s3u1LLJfJr"
      },
      "source": [
        "**1.1.2. After preprocessing the skewed data, plot ```SalePrice``` column distribution again. (0.15 point)**"
      ]
    },
    {
      "cell_type": "code",
      "metadata": {
        "id": "hl0qQwwdJfJs",
        "colab": {
          "base_uri": "https://localhost:8080/",
          "height": 564
        },
        "outputId": "714e95ee-43df-492e-ccd7-d31cc9d7da59"
      },
      "source": [
        "import numpy as np\n",
        "# Fix Skewness in SalePrice using Log Transformation\n",
        "data['SalePrice'] = np.log1p(data['SalePrice'])\n",
        "\n",
        "# Identify Categorical Columns & Apply One-Hot Encoding\n",
        "categorical_cols = data.select_dtypes(include=['object']).columns\n",
        "data = pd.get_dummies(data, columns=categorical_cols, drop_first=True)\n",
        "\n",
        "# Handle NaN Values\n",
        "data.fillna(data.mean(numeric_only=True), inplace=True)  # Fill numerical NaNs with mean\n",
        "data.fillna(data.mode().iloc[0], inplace=True)  # Fill categorical NaNs with mode\n",
        "\n",
        "# Replace -Inf values with 0\n",
        "data.replace(-np.inf, 0, inplace=True)\n",
        "\n",
        "# Plot SalePrice after transformation\n",
        "plt.figure(figsize=(8,6))\n",
        "sns.histplot(data['SalePrice'], kde=True, bins=30)\n",
        "plt.xlabel(\"Log(SalePrice)\")\n",
        "plt.ylabel(\"Frequency\")\n",
        "plt.title(\"Distribution of Log Transformed SalePrice\")\n",
        "plt.show()\n"
      ],
      "execution_count": null,
      "outputs": [
        {
          "output_type": "display_data",
          "data": {
            "text/plain": [
              "<Figure size 800x600 with 1 Axes>"
            ],
            "image/png": "[encoded data removed]"
          },
          "metadata": {}
        }
      ]
    },
    {
      "cell_type": "markdown",
      "source": [
        "<font color='red'> **Answer:**</font> (AI cited), done data preprocessing and removed skewness in data and other things mentioned."
      ],
      "metadata": {
        "id": "MalR-JrqO0yI"
      }
    },
    {
      "cell_type": "markdown",
      "metadata": {
        "id": "OQPBZ0QWJfJs"
      },
      "source": [
        "**1.1.3. Calculate the correlation between price and each feature. Which are the top 3 features that have the highest correlation with  price? Is the correlation positive or negative? Explain what happens with the price when each of those 3 features change (consider only one feature at a time) and others are kept constant. (0.5 point)**\n",
        "\n"
      ]
    },
    {
      "cell_type": "code",
      "metadata": {
        "id": "A59X1K5fJfJs",
        "colab": {
          "base_uri": "https://localhost:8080/"
        },
        "outputId": "14ea7154-33d5-44eb-c9d3-7463ed79bc6d"
      },
      "source": [
        "# Compute correlation with SalePrice\n",
        "correlations = data.corr()['SalePrice'].drop('SalePrice')  # Drop self-correlation\n",
        "\n",
        "# Sort correlations in descending order\n",
        "sorted_correlations = correlations.sort_values(ascending=False)\n",
        "\n",
        "# Print all correlation values\n",
        "print(\"Correlation of all features with SalePrice:\")\n",
        "print(sorted_correlations)\n"
      ],
      "execution_count": null,
      "outputs": [
        {
          "output_type": "stream",
          "name": "stdout",
          "text": [
            "Correlation of all features with SalePrice:\n",
            "OverallQual          0.817185\n",
            "GrLivArea            0.700927\n",
            "GarageCars           0.680625\n",
            "GarageArea           0.650888\n",
            "TotalBsmtSF          0.612134\n",
            "                       ...   \n",
            "GarageType_Detchd   -0.388638\n",
            "GarageFinish_Unf    -0.432012\n",
            "BsmtQual_TA         -0.477611\n",
            "KitchenQual_TA      -0.538237\n",
            "ExterQual_TA        -0.595882\n",
            "Name: SalePrice, Length: 231, dtype: float64\n"
          ]
        }
      ]
    },
    {
      "cell_type": "markdown",
      "metadata": {
        "id": "zLYyFSd-JfJt"
      },
      "source": [
        "<font color='red'> **Answer:**</font> Top 3 features having highest correlation are:\n",
        "\n",
        "\n",
        "*   OverallQual\n",
        "*   GrLivArea\n",
        "*   GarageCars\n",
        "\n",
        "All are positively correlated. so if each of these 3 features increase, then so does the price. and if it decreases then so does the price as it is positively correlated.\n",
        "\n",
        "\n"
      ]
    },
    {
      "cell_type": "markdown",
      "metadata": {
        "id": "0qQzbp4RJfJt"
      },
      "source": [
        "**1.1.4.  Now you have to build a regression model that would be trained on training data and later predict the price on test data. You are free to select features on which you want train the model. The dataset has missing values, so please apply the following methods for dealing with the missing data in the features of your choice:**\n",
        "\n",
        "a) mean imputation\n",
        "\n",
        "b) median imputation\n",
        "\n",
        "c) mode imputation\n",
        "\n",
        "d) dropping missing values\n",
        "\n",
        "**Split dataset into the training (80% of the all rows) and test ( 20% of all rows) set, you can use train_test_split function from scikit-learn. While splitting, set the parameter random_state equal to 2, this will reproduce similar split during grading.**\n",
        "\n",
        "**For each of the case report MAE, RMSE and R<sup>2</sup>. Which method works better ?(2.0 points)**\n",
        "\n"
      ]
    },
    {
      "cell_type": "code",
      "metadata": {
        "id": "DCaoOjKWJfJt",
        "colab": {
          "base_uri": "https://localhost:8080/"
        },
        "outputId": "c4bdc469-e7c7-4b35-8dd9-92302f564fd8"
      },
      "source": [
        "from sklearn.model_selection import train_test_split\n",
        "from sklearn.impute import SimpleImputer\n",
        "from sklearn.linear_model import LinearRegression\n",
        "from sklearn.metrics import mean_absolute_error, mean_squared_error, r2_score\n",
        "import numpy as np\n",
        "import pandas as pd\n",
        "\n",
        "# For reproducibility, assume 'data' is already loaded and preprocessed (e.g., one-hot encoding, etc.)\n",
        "# Here we select three features based on prior correlation analysis.\n",
        "features = ['OverallQual', 'GrLivArea', 'GarageCars']\n",
        "X = data[features]\n",
        "y = data['SalePrice']\n",
        "\n",
        "# Split the data (80% train, 20% test)\n",
        "X_train, X_test, y_train, y_test = train_test_split(X, y, test_size=0.2, random_state=2)\n",
        "\n",
        "methods = ['mean imputation', 'median imputation', 'mode imputation', 'dropping missing values']\n",
        "# Store the results in these lists\n",
        "MAE = []\n",
        "RMSE = []\n",
        "R2 = []\n",
        "\n",
        "for method in methods:\n",
        "    # Work on a copy of training and test sets to avoid altering original splits\n",
        "    X_train_method = X_train.copy()\n",
        "    X_test_method = X_test.copy()\n",
        "    y_train_method = y_train.copy()\n",
        "    y_test_method = y_test.copy()\n",
        "\n",
        "    if method == 'mean imputation':\n",
        "        imputer = SimpleImputer(strategy='mean')\n",
        "        X_train_imp = imputer.fit_transform(X_train_method)\n",
        "        X_test_imp = imputer.transform(X_test_method)\n",
        "    elif method == 'median imputation':\n",
        "        imputer = SimpleImputer(strategy='median')\n",
        "        X_train_imp = imputer.fit_transform(X_train_method)\n",
        "        X_test_imp = imputer.transform(X_test_method)\n",
        "    elif method == 'mode imputation':\n",
        "        imputer = SimpleImputer(strategy='most_frequent')\n",
        "        X_train_imp = imputer.fit_transform(X_train_method)\n",
        "        X_test_imp = imputer.transform(X_test_method)\n",
        "    elif method == 'dropping missing values':\n",
        "        # Drop rows with any missing values in the feature set\n",
        "        X_train_imp = X_train_method.dropna()\n",
        "        # Align y_train with the dropped rows\n",
        "        y_train_method = y_train_method.loc[X_train_imp.index]\n",
        "        X_test_imp = X_test_method.dropna()\n",
        "        y_test_method = y_test_method.loc[X_test_imp.index]\n",
        "    else:\n",
        "        continue\n",
        "\n",
        "    # Train the regression model\n",
        "    model = LinearRegression()\n",
        "    model.fit(X_train_imp, y_train_method)\n",
        "    y_pred = model.predict(X_test_imp)\n",
        "\n",
        "    # Calculate evaluation metrics\n",
        "    mae = mean_absolute_error(y_test_method, y_pred)\n",
        "    rmse = np.sqrt(mean_squared_error(y_test_method, y_pred))\n",
        "    r2 = r2_score(y_test_method, y_pred)\n",
        "\n",
        "    MAE.append(mae)\n",
        "    RMSE.append(rmse)\n",
        "    R2.append(r2)\n",
        "\n",
        "# Print the metrics for each method\n",
        "for i, m in enumerate(methods):\n",
        "    print(\"Method: \" + m + \"  MAE: \" + str(MAE[i]) + \"  RMSE: \" + str(RMSE[i]) + \"  R2: \" + str(R2[i]))\n"
      ],
      "execution_count": null,
      "outputs": [
        {
          "output_type": "stream",
          "name": "stdout",
          "text": [
            "Method: mean imputation  MAE: 0.13299354063293561  RMSE: 0.17337148666715807  R2: 0.8213830524174242\n",
            "Method: median imputation  MAE: 0.13299354063293561  RMSE: 0.17337148666715807  R2: 0.8213830524174242\n",
            "Method: mode imputation  MAE: 0.13299354063293561  RMSE: 0.17337148666715807  R2: 0.8213830524174242\n",
            "Method: dropping missing values  MAE: 0.13299354063293561  RMSE: 0.17337148666715807  R2: 0.8213830524174242\n"
          ]
        }
      ]
    },
    {
      "cell_type": "markdown",
      "metadata": {
        "id": "di6eU4kRJfJt"
      },
      "source": [
        "<font color='red'> **Answer:**</font> Method: mean imputation  MAE: 0.13299354063293561  RMSE: 0.17337148666715807  R2: 0.8213830524174242\n",
        "Method: median imputation  MAE: 0.13299354063293561  RMSE: 0.17337148666715807  R2: 0.8213830524174242\n",
        "Method: mode imputation  MAE: 0.13299354063293561  RMSE: 0.17337148666715807  R2: 0.8213830524174242\n",
        "Method: dropping missing values  MAE: 0.13299354063293561  RMSE: 0.17337148666715807  R2: 0.8213830524174242"
      ]
    },
    {
      "cell_type": "markdown",
      "metadata": {
        "id": "O4mCTiasJfJu"
      },
      "source": [
        "**Please store the best MAE, RMSE, r2_best score in the following variables. We will use these variable to compare ```1.2.7```**"
      ]
    },
    {
      "cell_type": "code",
      "metadata": {
        "id": "XD8eDSFNJfJv"
      },
      "source": [
        "mae_best = MAE[0]    #best MAE\n",
        "rmse_best = RMSE[0]  #best RMSE\n",
        "r2_best = R2[0]      #best R2"
      ],
      "execution_count": null,
      "outputs": []
    },
    {
      "cell_type": "markdown",
      "metadata": {
        "id": "qgkUo5YBJfJv"
      },
      "source": [
        "# 1.2 Principal Component Analysis (PCA) (3 points)\n",
        "Our model performs quite good. But there is always room to make it better and simpler. By simpler, we mean the reducing the dimensionality of the dataset so that we can have a simpler linear regression model. <br> <br>If you noticed after one-hot encoding, we have 270 features (columns) but all these features do not hold the same level of information. For example, the first feature may hold 50% of the information required to make the linear regression acheive the performance we already had; the last, (feature number 270) may contribute to only 0.0000001% to the total output. Hence, adding this last variable (actually there could be more) to our linear regression model (read equation) will only increase the complexity of the model; space, time and computational complexity. Therefore, it is wise and desirable to make the model simpler yet performing the best (better).\n",
        "<br> <br>\n",
        "One such way to reduce the dimensionality of the dataset is known as Pricipal Component Analysis. Using this method, we can find out which features contribute the most in our model, therefore, we can wisely select how many we need. We will perform, PCA in this section of the homework. <br><br>\n",
        "\n",
        "*There is another powerful method for dimensionality reduction, named t-SNE. We will use t-sne in future homework. <br><br>*\n",
        "\n"
      ]
    },
    {
      "cell_type": "markdown",
      "metadata": {
        "id": "Gm5DmYT3JfJv"
      },
      "source": [
        "**1.2.1. From ```1.1.4``` keep the best method to deal with missing values and apply PCA to reduce the number of features. (1 point)**"
      ]
    },
    {
      "cell_type": "code",
      "metadata": {
        "id": "Zy7hzDhHJfJv",
        "colab": {
          "base_uri": "https://localhost:8080/"
        },
        "outputId": "474c1043-65ef-4d71-da53-f59b00a49f33"
      },
      "source": [
        "from sklearn.decomposition import PCA\n",
        "\n",
        "# Define feature matrix and target variable\n",
        "X = data.drop('SalePrice', axis=1)\n",
        "y = data['SalePrice']\n",
        "\n",
        "# First, use a temporary PCA to determine the number of components to preserve 95% variance.\n",
        "pca_temp = PCA(n_components=0.95, whiten=True, random_state=0)\n",
        "pca_temp.fit(X)\n",
        "n_components_int = pca_temp.n_components_\n",
        "print(\"Number of components to preserve 95% variance:\", n_components_int)\n",
        "\n",
        "# Now initialize PCA with the integer number of components and your desired parameters\n",
        "pca = PCA(n_components=n_components_int, whiten=True, svd_solver='randomized', random_state=0)\n",
        "X_pca = pca.fit_transform(X)\n"
      ],
      "execution_count": null,
      "outputs": [
        {
          "output_type": "stream",
          "name": "stdout",
          "text": [
            "Number of components to preserve 95% variance: 1\n"
          ]
        }
      ]
    },
    {
      "cell_type": "markdown",
      "source": [
        "<font color='red'> **Answer:**</font>"
      ],
      "metadata": {
        "id": "aWby6Ko4PCcV"
      }
    },
    {
      "cell_type": "markdown",
      "metadata": {
        "id": "Y-w3klggJfJw"
      },
      "source": [
        "**1.2.2. What percentage of the variance is explained by the first five components? (0.25 point)**"
      ]
    },
    {
      "cell_type": "code",
      "source": [
        "# Sum the explained variance ratios for the first five components\n",
        "variance_first_five = np.sum(pca.explained_variance_ratio_[:5])\n",
        "print(\"Percentage of variance explained by the first five components: {:.2f}%\".format(variance_first_five * 100))"
      ],
      "metadata": {
        "id": "WlNcmGRdPDjd",
        "colab": {
          "base_uri": "https://localhost:8080/"
        },
        "outputId": "8e519e9a-91e0-43d9-c3da-f399167cc97c"
      },
      "execution_count": null,
      "outputs": [
        {
          "output_type": "stream",
          "name": "stdout",
          "text": [
            "Percentage of variance explained by the first five components: 98.48%\n"
          ]
        }
      ]
    },
    {
      "cell_type": "markdown",
      "metadata": {
        "id": "oQEVP0WjJfJw"
      },
      "source": [
        "<font color='red'> **Answer:**</font> Percentage of variance explained by the first five components: 98.48%"
      ]
    },
    {
      "cell_type": "markdown",
      "metadata": {
        "id": "J7ELb09LJfJw"
      },
      "source": [
        "It would be helpful if we could see all of the variance against the number of components, so a plot would give us a better understanding of the situation."
      ]
    },
    {
      "cell_type": "markdown",
      "metadata": {
        "id": "u3FzebW5JfJ2"
      },
      "source": [
        "**1.2.3. Please plot the result of PCA you built in ```1.2.1```<br>\n",
        "X-axis=Number of Components, Y-axis=Total explained variance and explain the result.(0.5 point)**"
      ]
    },
    {
      "cell_type": "code",
      "metadata": {
        "id": "Irp6UKBbJfJ3",
        "colab": {
          "base_uri": "https://localhost:8080/",
          "height": 617
        },
        "outputId": "adf741c2-f997-4441-b1b5-fdffb6f79122"
      },
      "source": [
        "import matplotlib.pyplot as plt\n",
        "import numpy as np\n",
        "\n",
        "# Calculate cumulative explained variance from the PCA object\n",
        "cumulative_variance = np.cumsum(pca.explained_variance_ratio_)\n",
        "\n",
        "plt.figure(figsize=(10,7))\n",
        "lw = 2\n",
        "plt.plot(np.arange(1, len(cumulative_variance) + 1), cumulative_variance, color='red', lw=lw)\n",
        "plt.xlabel('Number of Components')\n",
        "plt.ylabel('Total Explained Variance')\n",
        "\n",
        "plt.xlim(0, 300)\n",
        "plt.yticks(np.arange(0, 1.1, 0.1))\n",
        "\n",
        "# A horizontal line at 90% explained variance to help determine how many components are needed.\n",
        "plt.axhline(0.9, c='c')\n",
        "plt.show()\n"
      ],
      "execution_count": null,
      "outputs": [
        {
          "output_type": "display_data",
          "data": {
            "text/plain": [
              "<Figure size 1000x700 with 1 Axes>"
            ],
            "image/png": "[encoded data removed]"
          },
          "metadata": {}
        }
      ]
    },
    {
      "cell_type": "markdown",
      "metadata": {
        "id": "WHnlCo-5JfJ3"
      },
      "source": [
        "<font color='red'> **Answer:**</font>"
      ]
    },
    {
      "cell_type": "markdown",
      "metadata": {
        "id": "1_4PB8XRJfJ4"
      },
      "source": [
        "**1.2.4. Again, from ```1.1.4``` keep the best method to deal with missing values and use PCA to reduce the number of features. But you can use only the number of features that are significant in ```1.1.3```, in this case you have to choose an optimum n_component value based on the PCA plot. Otherwise, you can select all of the features and pass the n_components=37. In all cases, keep random_state for PCA equal to 0. (0.25 points)**"
      ]
    },
    {
      "cell_type": "code",
      "metadata": {
        "id": "T5V5J9lkJfJ4"
      },
      "source": [
        "from sklearn.decomposition import PCA\n",
        "\n",
        "# Define feature matrix and target variable using the preprocessed data (mean imputation)\n",
        "X = data.drop('SalePrice', axis=1)\n",
        "y = data['SalePrice']\n",
        "\n",
        "# Option 2: Otherwise, using all features and setting n_components=37:\n",
        "pca = PCA(n_components=37, random_state=0)\n",
        "\n",
        "# Fit PCA on X and transform the features\n",
        "X_pca = pca.fit_transform(X)\n"
      ],
      "execution_count": null,
      "outputs": []
    },
    {
      "cell_type": "markdown",
      "source": [
        "<font color='red'> **Answer:**</font>"
      ],
      "metadata": {
        "id": "sGf3C80oPFbA"
      }
    },
    {
      "cell_type": "markdown",
      "metadata": {
        "id": "-ii2fvRuJfJ4"
      },
      "source": [
        "**1.2.5. Use the new components derived from PCA to predict the house pricing. Keep the ratio of test and train set to 20/80 and the random_state equal to 0. Report MAE, RMSE and R<sup>2</sup> (0.75 point)** <br>\n",
        "*Hint: Now your training data is different. Please use pca.transform(X) function to create your new training dataset. But make sure you have the fitted pca from ```1.2.4```*"
      ]
    },
    {
      "cell_type": "code",
      "metadata": {
        "id": "nO8i5zgiJfJ4",
        "colab": {
          "base_uri": "https://localhost:8080/"
        },
        "outputId": "8f5164a0-993a-4a1a-f128-ffebfd4211c4"
      },
      "source": [
        "pca_X = pca.transform(X)\n",
        "\n",
        "\n",
        "methods = ['mean imputation', 'median imputation', 'mode imputation', 'dropping missing values']\n",
        "MAE = []\n",
        "RMSE = []\n",
        "R2 = []\n",
        "\n",
        "X_train_pca, X_test_pca, y_train_pca, y_test_pca = train_test_split(pca_X, y, test_size=0.2, random_state=0)\n",
        "\n",
        "regressor = LinearRegression()\n",
        "regressor.fit(X_train_pca, y_train_pca)\n",
        "\n",
        "y_predicted_pca = regressor.predict(X_test_pca)\n",
        "\n",
        "mae_pca = mean_absolute_error(y_test_pca, y_predicted_pca)\n",
        "rmse_pca = np.sqrt(mean_squared_error(y_test_pca, y_predicted_pca))\n",
        "r2_pca = r2_score(y_test_pca, y_predicted_pca)\n",
        "\n",
        "\n",
        "print(\"MAE: \" + str(mae_pca) + \"  RMSE: \" + str(rmse_pca) + \"  R2: \" + str(r2_pca))\n"
      ],
      "execution_count": null,
      "outputs": [
        {
          "output_type": "stream",
          "name": "stdout",
          "text": [
            "MAE: 0.09782226479970176  RMSE: 0.2107314885559814  R2: 0.7066821184179726\n"
          ]
        }
      ]
    },
    {
      "cell_type": "markdown",
      "source": [
        "<font color='red'> **Answer:**</font>\n",
        "MAE: 0.09782226479970176  RMSE: 0.2107314885559814  R2: 0.7066821184179726\n",
        "\n"
      ],
      "metadata": {
        "id": "Z18-EyLXPJkq"
      }
    },
    {
      "cell_type": "markdown",
      "metadata": {
        "id": "BJ8DEaLyJfJ4"
      },
      "source": [
        "**1.2.6 The following cell would calculate the difference between pre-PCA and post-PCA. Please explain the situation based on the differences. (0.25 point)**"
      ]
    },
    {
      "cell_type": "code",
      "metadata": {
        "id": "aLFLGYHnJfJ5",
        "colab": {
          "base_uri": "https://localhost:8080/"
        },
        "outputId": "b8a09fd7-92f9-4a1c-b71e-17755454c861"
      },
      "source": [
        "print(\"MAE difference after PCA: \", mae_best-mae_pca)\n",
        "print(\"RMSE difference after PCA: \", rmse_best-rmse_pca)\n",
        "print(\"R2 difference after PCA: \", r2_best-r2_pca)"
      ],
      "execution_count": null,
      "outputs": [
        {
          "output_type": "stream",
          "name": "stdout",
          "text": [
            "MAE difference after PCA:  0.03517127583323386\n",
            "RMSE difference after PCA:  -0.037360001888823324\n",
            "R2 difference after PCA:  0.11470093399945158\n"
          ]
        }
      ]
    },
    {
      "cell_type": "markdown",
      "metadata": {
        "id": "YTZCW4GEJfJ5"
      },
      "source": [
        "<font color='red'> **Answer:**</font>\n",
        "MAE difference after PCA:  0.03517127583323386\n",
        "RMSE difference after PCA:  -0.037360001888823324\n",
        "R2 difference after PCA:  0.11470093399945158\n",
        "\n"
      ]
    },
    {
      "cell_type": "markdown",
      "metadata": {
        "id": "MVj81M_uJfJ5"
      },
      "source": [
        "## 1.3 Overfitting (5 points)\n",
        "\n",
        "Now our model is comparatively better than the earlier models. It is less complex yet performs the almost the same. Let's dive a little deeper into the model now. In this section, we will check if the model is overfitting. The concept of overfitting has already been delivered in the lectures. However, if you are interesed in honing it up, please take a look here or anywhere you understand better: https://datascience.foundation/sciencewhitepaper/underfitting-and-overfitting-in-machine-learning\n",
        "<br>\n",
        "But, unfortunately it is difficult to know if a model is overfitting or underfitting. One way to know more about model's performance is cross-validation. Cross-validation is also used in the hyperparameter searching to find the best performing model in a given scenario.  \n",
        "We have a few techniques to prevent overfitting and we will focus on\n",
        "- 1.3.1 Cross-validation\n",
        "    - K-Fold cross-validation: Most common (we would apply this one to see the performance of the Linear regression model)\n",
        "    - Leave One Out (LOO): Takes each row as the validation set for once, and trains the model on the rest n-1 rows. Thus, it trains n number of models.\n",
        "\n",
        "    - Leave P-Out (LPO): Creates possible splits after leaving p samples out. For n rows, there would be (nCp) possibile train-test splits.\n",
        "    - (For classification problems) Stratified K-Fold: Ensures relative class proportion is preserved in each train and validation fold. Important when the class label is imbalanced (e.g. 95% label: 1; 5% label: 0).\n",
        "    \n",
        "    *The last three techniques will be discussed in detail in the 7th Lecture.* <br><br>\n",
        "    \n",
        "- 1.3.2 Regularization\n",
        "    - L1 (Lasso)    \n",
        "    - L2 (Ridge)\n",
        "\n"
      ]
    },
    {
      "cell_type": "markdown",
      "metadata": {
        "id": "cgnrzErbJfJ5"
      },
      "source": [
        "**1.3.0. Now we have to check if the trained regression model in ```1.1.4``` is overfitting. Please use R<sup>2</sup> value on train and test result to determine the overfitting. Please explain the result from the perspective of the dataset and the value(0.2 point)**"
      ]
    },
    {
      "cell_type": "code",
      "metadata": {
        "id": "-U9AhTxCJfJ5",
        "colab": {
          "base_uri": "https://localhost:8080/"
        },
        "outputId": "b07b60bb-5c29-4064-d32d-1a8e9d9c0dda"
      },
      "source": [
        "from sklearn.model_selection import train_test_split\n",
        "from sklearn.linear_model import LinearRegression\n",
        "from sklearn.metrics import r2_score\n",
        "\n",
        "X = data[['OverallQual', 'GrLivArea', 'GarageCars']]\n",
        "y = data['SalePrice']\n",
        "\n",
        "# Split the dataset into training (80%) and test (20%) sets using random_state=2 for reproducibility.\n",
        "X_train, X_test, y_train, y_test = train_test_split(X, y, test_size=0.2, random_state=2)\n",
        "\n",
        "# Initialize and train the Linear Regression model.\n",
        "model = LinearRegression()\n",
        "model.fit(X_train, y_train)\n",
        "\n",
        "# Compute R² for both training and test sets.\n",
        "r2_train = model.score(X_train, y_train)\n",
        "r2_test = model.score(X_test, y_test)\n",
        "\n",
        "print(\"Training R²:\", r2_train)\n",
        "print(\"Test R²:\", r2_test)\n"
      ],
      "execution_count": null,
      "outputs": [
        {
          "output_type": "stream",
          "name": "stdout",
          "text": [
            "Training R²: 0.7656484295676543\n",
            "Test R²: 0.8213830524174242\n"
          ]
        }
      ]
    },
    {
      "cell_type": "markdown",
      "metadata": {
        "id": "aejhzWfUJfJ6"
      },
      "source": [
        "<font color='red'> **Answer:**</font> the small difference between the training and test R² values confirms that the model is robust. The model’s performance on new, unseen data is consistent with its performance on the training data, meaning that overfitting is not a concern in this case"
      ]
    },
    {
      "cell_type": "markdown",
      "metadata": {
        "id": "la1JX3IhJfJ6"
      },
      "source": [
        "**1.3.1 Please apply K-fold=10 fold closs validation on the training dataset of ```1.1.4``` Keep random_state=1, shuffle=True, while performing cross validation, make sure that return_train_score=True.(0.5 point)**\n"
      ]
    },
    {
      "cell_type": "code",
      "metadata": {
        "id": "7cZsA7alJfJ6",
        "colab": {
          "base_uri": "https://localhost:8080/"
        },
        "outputId": "1dbfc1d9-d3b6-4359-c427-c284dcf871e7"
      },
      "source": [
        "from sklearn.model_selection import train_test_split, KFold, cross_validate\n",
        "from sklearn.model_selection import cross_val_score\n",
        "from numpy import mean\n",
        "from numpy import std\n",
        "\n",
        "cv = KFold(n_splits=10, random_state=1, shuffle=True)\n",
        "model = LinearRegression()\n",
        "\n",
        "scoring = {'r2': 'r2', 'neg_mean_squared_error': 'neg_mean_squared_error'}\n",
        "scores = cross_validate(model, X_train, y_train, cv=cv, scoring=scoring, return_train_score=True)\n",
        "\n",
        "\n",
        "# report performance\n",
        "print('R^2: %.3f (%.3f)' % (mean(scores['test_r2']), std(scores['test_r2'])))\n",
        "print('MSE: %.3f (%.3f)' % (mean(scores['test_neg_mean_squared_error']), std(scores['test_neg_mean_squared_error'])))"
      ],
      "execution_count": null,
      "outputs": [
        {
          "output_type": "stream",
          "name": "stdout",
          "text": [
            "R^2: 0.756 (0.062)\n",
            "MSE: -0.038 (0.011)\n"
          ]
        }
      ]
    },
    {
      "cell_type": "markdown",
      "source": [
        "<font color='red'> **Answer:**</font>\n",
        "R^2: 0.756 (0.062)\n",
        "MSE: -0.038 (0.011)"
      ],
      "metadata": {
        "id": "oGuHm1lkPPTM"
      }
    },
    {
      "cell_type": "markdown",
      "metadata": {
        "id": "TALQSL6JJfJ6"
      },
      "source": [
        "**1.3.1.2. Please plot the training and test R<sup>2</sup> value where X-axis=number of folds, Y-axis=R<sup>2</sup> value. Explain the plot, if the model shows overfitting or not.(0.3 point)**"
      ]
    },
    {
      "cell_type": "code",
      "metadata": {
        "id": "h6AxRDbsJfJ6",
        "colab": {
          "base_uri": "https://localhost:8080/",
          "height": 370
        },
        "outputId": "7374dcc9-060c-4765-86d4-8952a3d8741e"
      },
      "source": [
        "import matplotlib.pyplot as plt\n",
        "\n",
        "# Create an array of fold numbers\n",
        "folds = range(1, len(scores['train_r2']) + 1)\n",
        "\n",
        "plt.figure(figsize=(16,6))\n",
        "plt.plot(folds, scores['train_r2'], marker='o', label='Train R²')\n",
        "plt.plot(folds, scores['test_r2'], marker='o', label='Test R²')\n",
        "plt.xlabel('Fold Number')\n",
        "plt.ylabel('R² Value')\n",
        "plt.title('Training and Test R² Values Across 10 Folds')\n",
        "plt.legend()\n",
        "plt.show()"
      ],
      "execution_count": null,
      "outputs": [
        {
          "output_type": "display_data",
          "data": {
            "text/plain": [
              "<Figure size 1600x600 with 1 Axes>"
            ],
            "image/png": "[encoded data removed]"
          },
          "metadata": {}
        }
      ]
    },
    {
      "cell_type": "markdown",
      "metadata": {
        "id": "Qq62bO4LJfJ6"
      },
      "source": [
        "<font color='red'> **Answer:**</font>"
      ]
    },
    {
      "cell_type": "markdown",
      "metadata": {
        "id": "PRU2r7W0JfJ7"
      },
      "source": [
        "**1.3.2  Please apply L1 (Lasso) regularization with variable alpha parameters and report the corresponding alpha value and R<sup>2</sup> value. Use the training split from ```1.1.4``` (1.5 point)**"
      ]
    },
    {
      "cell_type": "code",
      "metadata": {
        "scrolled": true,
        "id": "JBLdIUk6JfJ7",
        "colab": {
          "base_uri": "https://localhost:8080/"
        },
        "outputId": "9d8c075e-b129-40b0-a133-8b6ad4d89f29"
      },
      "source": [
        "from sklearn.model_selection import KFold\n",
        "from sklearn.model_selection import cross_val_score\n",
        "from numpy import mean\n",
        "from numpy import std\n",
        "import pandas as pd\n",
        "from sklearn.linear_model import Lasso, Ridge\n",
        "\n",
        "\n",
        "cross_val_scores_lasso = []\n",
        "\n",
        "# List to maintain the different values of alpha\n",
        "alpha_values = []\n",
        "\n",
        "# Set up 10-fold cross-validation with random_state=1 and shuffle=True\n",
        "cv = KFold(n_splits=10, random_state=1, shuffle=True)\n",
        "\n",
        "# Loop over different alpha values (from 0.0001 to 0.0008)\n",
        "for i in range(1, 9):\n",
        "    current_alpha = i * 0.0001\n",
        "    # Formulate the Lasso model with the current alpha value\n",
        "    model = Lasso(alpha=current_alpha, random_state=0)\n",
        "\n",
        "    # Evaluate the model using 10-fold cross-validation with R^2 as the scoring metric\n",
        "    scores = cross_val_score(model, X_train, y_train, cv=cv, scoring='r2')\n",
        "\n",
        "    # Calculate the average cross-validated R^2 (multiply by 100 to express as percentage if desired)\n",
        "    avg_cross_val_score = mean(scores) * 100\n",
        "\n",
        "    cross_val_scores_lasso.append(avg_cross_val_score)\n",
        "    alpha_values.append(current_alpha)\n",
        "\n",
        "# Print the different alpha values and their corresponding cross-validated R^2 scores\n",
        "for i in range(len(alpha_values)):\n",
        "    print(str(alpha_values[i]) + ' : ' + str(cross_val_scores_lasso[i]))\n",
        "\n"
      ],
      "execution_count": null,
      "outputs": [
        {
          "output_type": "stream",
          "name": "stdout",
          "text": [
            "0.0001 : 75.58620053023328\n",
            "0.0002 : 75.58656478837439\n",
            "0.00030000000000000003 : 75.58689739570701\n",
            "0.0004 : 75.58719898246807\n",
            "0.0005 : 75.58745609339168\n",
            "0.0006000000000000001 : 75.58770774904848\n",
            "0.0007 : 75.58791545932534\n",
            "0.0008 : 75.58809167314551\n"
          ]
        }
      ]
    },
    {
      "cell_type": "markdown",
      "source": [
        "<font color='red'> **Answer:**</font>\n",
        "0.0001 : 75.58620053023328\n",
        "0.0002 : 75.58656478837439\n",
        "0.00030000000000000003 : 75.58689739570701\n",
        "0.0004 : 75.58719898246807\n",
        "0.0005 : 75.58745609339168\n",
        "0.0006000000000000001 : 75.58770774904848\n",
        "0.0007 : 75.58791545932534\n",
        "0.0008 : 75.58809167314551"
      ],
      "metadata": {
        "id": "AkVH-g4qPRtL"
      }
    },
    {
      "cell_type": "markdown",
      "metadata": {
        "id": "8bfFzmDfJfJ7"
      },
      "source": [
        "**1.3.3. Take the best alpha value from ```1.3.2``` and use it to train a new lasso model and report the  R<sup>2</sup> value on test set. Use the train test split from ```1.1.4```. (0.5 point)**"
      ]
    },
    {
      "cell_type": "code",
      "metadata": {
        "id": "26ebQVQ6JfJ7",
        "colab": {
          "base_uri": "https://localhost:8080/"
        },
        "outputId": "b5656978-c625-4930-d520-7010c9bd2428"
      },
      "source": [
        "from sklearn.model_selection import train_test_split\n",
        "from sklearn.linear_model import Lasso\n",
        "\n",
        "# Building and fitting the Lasso Regression Model using the best alpha value (0.0008)\n",
        "lassoModelBest = Lasso(alpha=0.0008, random_state=0)\n",
        "lassoModelBest.fit(X_train, y_train)\n",
        "\n",
        "# Evaluating the Lasso Regression model on the test set\n",
        "print(lassoModelBest.score(X_test, y_test))\n"
      ],
      "execution_count": null,
      "outputs": [
        {
          "output_type": "stream",
          "name": "stdout",
          "text": [
            "0.8213663586019545\n"
          ]
        }
      ]
    },
    {
      "cell_type": "markdown",
      "source": [
        "<font color='red'> **Answer:**</font>\n",
        "0.8213663586019545"
      ],
      "metadata": {
        "id": "TKhAN3tbPT3N"
      }
    },
    {
      "cell_type": "markdown",
      "metadata": {
        "id": "CNhJ6cwkJfJ7"
      },
      "source": [
        "**1.3.4.  Please apply L2 (Ridge) regularization with variable alpha parameters and report the corresponding alpha value and R<sup>2</sup> value. Use the training split from ```1.1.4``` (1.5 point)**\n",
        "\n",
        "N.B. The $alpha$ here in the ridge regularization is the same as $lambda$ you saw in the lecture. We did not initiate the variable with $lambda$ because $lambda$ is a reserved keyword in python which is used to create small anonymous functions. A $lambda$ function can take any number of arguments, but can only have one expression.\n",
        "You can read more about it here: https://www.w3schools.com/python/ref_keyword_lambda.asp#:~:text=The%20lambda%20keyword%20is%20used,and%20the%20result%20is%20returned."
      ]
    },
    {
      "cell_type": "code",
      "metadata": {
        "id": "WQXWz0z4JfJ8",
        "colab": {
          "base_uri": "https://localhost:8080/"
        },
        "outputId": "bfb951d1-e700-455b-b41e-5b42f41c9011"
      },
      "source": [
        "cross_val_scores_ridge = []\n",
        "alpha_values = []  # List to maintain the different values of alpha\n",
        "\n",
        "# Set up 10-fold cross-validation with shuffle=True and random_state=1\n",
        "cv = KFold(n_splits=10, random_state=1, shuffle=True)\n",
        "\n",
        "# Loop for different alpha values (from 0.0001 to 0.0008)\n",
        "for i in range(1, 9):\n",
        "    current_alpha = i * 0.0001\n",
        "    # Formulate the Ridge model with the current alpha value (L2 regularization)\n",
        "    model = Ridge(alpha=current_alpha, random_state=0)\n",
        "\n",
        "    # Perform 10-fold cross-validation using R² as the scoring metric\n",
        "    scores = cross_val_score(model, X_train, y_train, cv=cv, scoring='r2')\n",
        "    avg_cross_val_score = mean(scores) * 100  # Multiply by 100 for percentage representation\n",
        "\n",
        "    cross_val_scores_ridge.append(avg_cross_val_score)\n",
        "    alpha_values.append(current_alpha)\n",
        "\n",
        "# Loop to print the different values of alpha and their corresponding cross-validated R² scores\n",
        "for i in range(len(alpha_values)):\n",
        "    print(str(alpha_values[i]) + ' : ' + str(cross_val_scores_ridge[i]))"
      ],
      "execution_count": null,
      "outputs": [
        {
          "output_type": "stream",
          "name": "stdout",
          "text": [
            "0.0001 : 75.58580530976823\n",
            "0.0002 : 75.58580540734596\n",
            "0.00030000000000000003 : 75.58580550492316\n",
            "0.0004 : 75.58580560249979\n",
            "0.0005 : 75.58580570007587\n",
            "0.0006000000000000001 : 75.58580579765139\n",
            "0.0007 : 75.58580589522636\n",
            "0.0008 : 75.58580599280074\n"
          ]
        }
      ]
    },
    {
      "cell_type": "markdown",
      "source": [
        "<font color='red'> **Answer:**</font>"
      ],
      "metadata": {
        "id": "NKgwq2qcPVS-"
      }
    },
    {
      "cell_type": "markdown",
      "metadata": {
        "id": "_3k6yZXNJfJ8"
      },
      "source": [
        "**1.3.5. Take the best alpha value from ```1.3.4``` and use it to train a new ridge model and report the  R<sup>2</sup> value on test set. Use the train test split from ```1.1.4```. (0.5 point)**"
      ]
    },
    {
      "cell_type": "code",
      "metadata": {
        "id": "JB_FtNHeJfJ8",
        "colab": {
          "base_uri": "https://localhost:8080/"
        },
        "outputId": "70e5331c-51aa-4d71-b48c-c75d28cc461f"
      },
      "source": [
        "best_alpha = 0.0008\n",
        "\n",
        "# Building and fitting the Ridge Regression model using the best alpha value\n",
        "ridgeModelBest = Ridge(alpha=best_alpha, random_state=0)\n",
        "ridgeModelBest.fit(X_train, y_train)\n",
        "\n",
        "# Evaluating the Ridge Regression model on the test set\n",
        "test_r2 = ridgeModelBest.score(X_test, y_test)\n",
        "print(\"Test R²:\", test_r2)"
      ],
      "execution_count": null,
      "outputs": [
        {
          "output_type": "stream",
          "name": "stdout",
          "text": [
            "Test R²: 0.821383051101903\n"
          ]
        }
      ]
    },
    {
      "cell_type": "markdown",
      "source": [
        "<font color='red'> **Answer:**</font>"
      ],
      "metadata": {
        "id": "2Y5DdlEpPYKL"
      }
    },
    {
      "cell_type": "markdown",
      "metadata": {
        "id": "k-5hoCclJfJ8"
      },
      "source": [
        "## How long did it take you to solve the homework?\n",
        "\n",
        "* Please answer as precisely as you can. It does not affect your points or grade in any way. It is okay, if it took 0.5 hours or 24 hours. The collected information will be used to improve future homeworks.\n",
        "\n",
        "\n",
        "<font color='red'> **Answer:**</font>\n",
        "\n",
        "## What is the level of difficulty for this homework?\n",
        "you can put only number between $0:10$ ($0:$ easy, $10:$ difficult)\n",
        "\n",
        "<font color='red'> **Answer:**</font> 9\n",
        "\n",
        "## Any other comments regarding this homework?\n",
        "\n",
        "<font color='red'> **Answer:**</font>\n",
        "I took help of gpt in this homework cause it was difficult for me so am citing the usage of AI."
      ]
    },
    {
      "cell_type": "code",
      "source": [],
      "metadata": {
        "id": "2-vocwue0ETz"
      },
      "execution_count": null,
      "outputs": []
    }
  ]
}